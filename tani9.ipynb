{
 "cells": [
  {
   "cell_type": "code",
   "execution_count": 1,
   "id": "cd87c463",
   "metadata": {},
   "outputs": [],
   "source": [
    "import pandas as pd \n",
    "import seaborn as sns"
   ]
  },
  {
   "cell_type": "code",
   "execution_count": 2,
   "id": "183b9c1b",
   "metadata": {},
   "outputs": [],
   "source": [
    "data=pd.read_csv('top-5000-youtube-channels.csv')"
   ]
  },
  {
   "cell_type": "code",
   "execution_count": 3,
   "id": "67149f4d",
   "metadata": {},
   "outputs": [
    {
     "data": {
      "text/plain": [
       "B+      2956\n",
       "A-      1024\n",
       "A        963\n",
       "A+        41\n",
       "A++       10\n",
       "           6\n",
       "Name: Grade, dtype: int64"
      ]
     },
     "execution_count": 3,
     "metadata": {},
     "output_type": "execute_result"
    }
   ],
   "source": [
    "data['Grade'].value_counts()"
   ]
  },
  {
   "cell_type": "code",
   "execution_count": 4,
   "id": "7ef38f2f",
   "metadata": {},
   "outputs": [
    {
     "data": {
      "text/plain": [
       "'B+ '"
      ]
     },
     "execution_count": 4,
     "metadata": {},
     "output_type": "execute_result"
    }
   ],
   "source": [
    "data[\"Grade\"][4990]"
   ]
  },
  {
   "cell_type": "code",
   "execution_count": 5,
   "id": "9b8648b4",
   "metadata": {},
   "outputs": [
    {
     "data": {
      "text/html": [
       "<div>\n",
       "<style scoped>\n",
       "    .dataframe tbody tr th:only-of-type {\n",
       "        vertical-align: middle;\n",
       "    }\n",
       "\n",
       "    .dataframe tbody tr th {\n",
       "        vertical-align: top;\n",
       "    }\n",
       "\n",
       "    .dataframe thead th {\n",
       "        text-align: right;\n",
       "    }\n",
       "</style>\n",
       "<table border=\"1\" class=\"dataframe\">\n",
       "  <thead>\n",
       "    <tr style=\"text-align: right;\">\n",
       "      <th></th>\n",
       "      <th>Rank</th>\n",
       "      <th>Grade</th>\n",
       "      <th>Channel name</th>\n",
       "      <th>Video Uploads</th>\n",
       "      <th>Subscribers</th>\n",
       "      <th>Video views</th>\n",
       "    </tr>\n",
       "  </thead>\n",
       "  <tbody>\n",
       "    <tr>\n",
       "      <th>0</th>\n",
       "      <td>1st</td>\n",
       "      <td>A++</td>\n",
       "      <td>Zee TV</td>\n",
       "      <td>82757</td>\n",
       "      <td>18752951</td>\n",
       "      <td>20869786591</td>\n",
       "    </tr>\n",
       "    <tr>\n",
       "      <th>1</th>\n",
       "      <td>2nd</td>\n",
       "      <td>A++</td>\n",
       "      <td>T-Series</td>\n",
       "      <td>12661</td>\n",
       "      <td>61196302</td>\n",
       "      <td>47548839843</td>\n",
       "    </tr>\n",
       "    <tr>\n",
       "      <th>2</th>\n",
       "      <td>3rd</td>\n",
       "      <td>A++</td>\n",
       "      <td>Cocomelon - Nursery Rhymes</td>\n",
       "      <td>373</td>\n",
       "      <td>19238251</td>\n",
       "      <td>9793305082</td>\n",
       "    </tr>\n",
       "    <tr>\n",
       "      <th>3</th>\n",
       "      <td>4th</td>\n",
       "      <td>A++</td>\n",
       "      <td>SET India</td>\n",
       "      <td>27323</td>\n",
       "      <td>31180559</td>\n",
       "      <td>22675948293</td>\n",
       "    </tr>\n",
       "    <tr>\n",
       "      <th>4</th>\n",
       "      <td>5th</td>\n",
       "      <td>A++</td>\n",
       "      <td>WWE</td>\n",
       "      <td>36756</td>\n",
       "      <td>32852346</td>\n",
       "      <td>26273668433</td>\n",
       "    </tr>\n",
       "    <tr>\n",
       "      <th>...</th>\n",
       "      <td>...</td>\n",
       "      <td>...</td>\n",
       "      <td>...</td>\n",
       "      <td>...</td>\n",
       "      <td>...</td>\n",
       "      <td>...</td>\n",
       "    </tr>\n",
       "    <tr>\n",
       "      <th>4990</th>\n",
       "      <td>4,991st</td>\n",
       "      <td>B+</td>\n",
       "      <td>Ho Ngoc Ha's Official Channel</td>\n",
       "      <td>208</td>\n",
       "      <td>--</td>\n",
       "      <td>127185704</td>\n",
       "    </tr>\n",
       "    <tr>\n",
       "      <th>4991</th>\n",
       "      <td>4,992nd</td>\n",
       "      <td>B+</td>\n",
       "      <td>Toys to Learn Colors</td>\n",
       "      <td>11</td>\n",
       "      <td>663114</td>\n",
       "      <td>141933264</td>\n",
       "    </tr>\n",
       "    <tr>\n",
       "      <th>4992</th>\n",
       "      <td>4,993rd</td>\n",
       "      <td>B+</td>\n",
       "      <td>КАZКА</td>\n",
       "      <td>25</td>\n",
       "      <td>131766</td>\n",
       "      <td>74304638</td>\n",
       "    </tr>\n",
       "    <tr>\n",
       "      <th>4993</th>\n",
       "      <td>4,994th</td>\n",
       "      <td>B+</td>\n",
       "      <td>United CUBE (CUBE Entertainment…</td>\n",
       "      <td>1055</td>\n",
       "      <td>1586835</td>\n",
       "      <td>371299166</td>\n",
       "    </tr>\n",
       "    <tr>\n",
       "      <th>4994</th>\n",
       "      <td>4,995th</td>\n",
       "      <td>B+</td>\n",
       "      <td>Wings Marathi</td>\n",
       "      <td>1735</td>\n",
       "      <td>1099659</td>\n",
       "      <td>346175699</td>\n",
       "    </tr>\n",
       "  </tbody>\n",
       "</table>\n",
       "<p>4995 rows × 6 columns</p>\n",
       "</div>"
      ],
      "text/plain": [
       "         Rank Grade                      Channel name Video Uploads  \\\n",
       "0         1st  A++                             Zee TV         82757   \n",
       "1         2nd  A++                           T-Series         12661   \n",
       "2         3rd  A++         Cocomelon - Nursery Rhymes           373   \n",
       "3         4th  A++                          SET India         27323   \n",
       "4         5th  A++                                WWE         36756   \n",
       "...       ...   ...                               ...           ...   \n",
       "4990  4,991st   B+      Ho Ngoc Ha's Official Channel           208   \n",
       "4991  4,992nd   B+               Toys to Learn Colors            11   \n",
       "4992  4,993rd   B+                              КАZКА            25   \n",
       "4993  4,994th   B+   United CUBE (CUBE Entertainment…          1055   \n",
       "4994  4,995th   B+                      Wings Marathi          1735   \n",
       "\n",
       "     Subscribers  Video views  \n",
       "0       18752951  20869786591  \n",
       "1       61196302  47548839843  \n",
       "2       19238251   9793305082  \n",
       "3       31180559  22675948293  \n",
       "4       32852346  26273668433  \n",
       "...          ...          ...  \n",
       "4990         --     127185704  \n",
       "4991      663114    141933264  \n",
       "4992      131766     74304638  \n",
       "4993     1586835    371299166  \n",
       "4994     1099659    346175699  \n",
       "\n",
       "[4995 rows x 6 columns]"
      ]
     },
     "execution_count": 5,
     "metadata": {},
     "output_type": "execute_result"
    }
   ],
   "source": [
    "data.head(-5)"
   ]
  },
  {
   "cell_type": "code",
   "execution_count": 6,
   "id": "bf6e516a",
   "metadata": {},
   "outputs": [
    {
     "data": {
      "text/plain": [
       "(5000, 6)"
      ]
     },
     "execution_count": 6,
     "metadata": {},
     "output_type": "execute_result"
    }
   ],
   "source": [
    "data.shape"
   ]
  },
  {
   "cell_type": "code",
   "execution_count": 7,
   "id": "f6e4b240",
   "metadata": {},
   "outputs": [
    {
     "name": "stdout",
     "output_type": "stream",
     "text": [
      "number of rows: 5000\n",
      "number of columns: 6\n"
     ]
    }
   ],
   "source": [
    "print(\"number of rows:\",data.shape[0])\n",
    "print(\"number of columns:\",data.shape[1])"
   ]
  },
  {
   "cell_type": "code",
   "execution_count": 8,
   "id": "cca49cc6",
   "metadata": {},
   "outputs": [
    {
     "name": "stdout",
     "output_type": "stream",
     "text": [
      "<class 'pandas.core.frame.DataFrame'>\n",
      "RangeIndex: 5000 entries, 0 to 4999\n",
      "Data columns (total 6 columns):\n",
      " #   Column         Non-Null Count  Dtype \n",
      "---  ------         --------------  ----- \n",
      " 0   Rank           5000 non-null   object\n",
      " 1   Grade          5000 non-null   object\n",
      " 2   Channel name   5000 non-null   object\n",
      " 3   Video Uploads  5000 non-null   object\n",
      " 4   Subscribers    5000 non-null   object\n",
      " 5   Video views    5000 non-null   int64 \n",
      "dtypes: int64(1), object(5)\n",
      "memory usage: 234.5+ KB\n"
     ]
    }
   ],
   "source": [
    "data.info()"
   ]
  },
  {
   "cell_type": "code",
   "execution_count": 9,
   "id": "27a95ad5",
   "metadata": {},
   "outputs": [
    {
     "data": {
      "text/html": [
       "<div>\n",
       "<style scoped>\n",
       "    .dataframe tbody tr th:only-of-type {\n",
       "        vertical-align: middle;\n",
       "    }\n",
       "\n",
       "    .dataframe tbody tr th {\n",
       "        vertical-align: top;\n",
       "    }\n",
       "\n",
       "    .dataframe thead th {\n",
       "        text-align: right;\n",
       "    }\n",
       "</style>\n",
       "<table border=\"1\" class=\"dataframe\">\n",
       "  <thead>\n",
       "    <tr style=\"text-align: right;\">\n",
       "      <th></th>\n",
       "      <th>Video views</th>\n",
       "    </tr>\n",
       "  </thead>\n",
       "  <tbody>\n",
       "    <tr>\n",
       "      <th>count</th>\n",
       "      <td>5.000000e+03</td>\n",
       "    </tr>\n",
       "    <tr>\n",
       "      <th>mean</th>\n",
       "      <td>1.071449e+09</td>\n",
       "    </tr>\n",
       "    <tr>\n",
       "      <th>std</th>\n",
       "      <td>2.003844e+09</td>\n",
       "    </tr>\n",
       "    <tr>\n",
       "      <th>min</th>\n",
       "      <td>7.500000e+01</td>\n",
       "    </tr>\n",
       "    <tr>\n",
       "      <th>25%</th>\n",
       "      <td>1.862329e+08</td>\n",
       "    </tr>\n",
       "    <tr>\n",
       "      <th>50%</th>\n",
       "      <td>4.820548e+08</td>\n",
       "    </tr>\n",
       "    <tr>\n",
       "      <th>75%</th>\n",
       "      <td>1.124368e+09</td>\n",
       "    </tr>\n",
       "    <tr>\n",
       "      <th>max</th>\n",
       "      <td>4.754884e+10</td>\n",
       "    </tr>\n",
       "  </tbody>\n",
       "</table>\n",
       "</div>"
      ],
      "text/plain": [
       "        Video views\n",
       "count  5.000000e+03\n",
       "mean   1.071449e+09\n",
       "std    2.003844e+09\n",
       "min    7.500000e+01\n",
       "25%    1.862329e+08\n",
       "50%    4.820548e+08\n",
       "75%    1.124368e+09\n",
       "max    4.754884e+10"
      ]
     },
     "execution_count": 9,
     "metadata": {},
     "output_type": "execute_result"
    }
   ],
   "source": [
    "data.describe()"
   ]
  },
  {
   "cell_type": "code",
   "execution_count": 10,
   "id": "3b7b9a6c",
   "metadata": {},
   "outputs": [],
   "source": [
    "pd.options.display.float_format='{:.2f}'.format"
   ]
  },
  {
   "cell_type": "code",
   "execution_count": 11,
   "id": "2c7554c2",
   "metadata": {},
   "outputs": [
    {
     "data": {
      "text/html": [
       "<div>\n",
       "<style scoped>\n",
       "    .dataframe tbody tr th:only-of-type {\n",
       "        vertical-align: middle;\n",
       "    }\n",
       "\n",
       "    .dataframe tbody tr th {\n",
       "        vertical-align: top;\n",
       "    }\n",
       "\n",
       "    .dataframe thead th {\n",
       "        text-align: right;\n",
       "    }\n",
       "</style>\n",
       "<table border=\"1\" class=\"dataframe\">\n",
       "  <thead>\n",
       "    <tr style=\"text-align: right;\">\n",
       "      <th></th>\n",
       "      <th>Video views</th>\n",
       "    </tr>\n",
       "  </thead>\n",
       "  <tbody>\n",
       "    <tr>\n",
       "      <th>count</th>\n",
       "      <td>5000.00</td>\n",
       "    </tr>\n",
       "    <tr>\n",
       "      <th>mean</th>\n",
       "      <td>1071449400.15</td>\n",
       "    </tr>\n",
       "    <tr>\n",
       "      <th>std</th>\n",
       "      <td>2003843972.12</td>\n",
       "    </tr>\n",
       "    <tr>\n",
       "      <th>min</th>\n",
       "      <td>75.00</td>\n",
       "    </tr>\n",
       "    <tr>\n",
       "      <th>25%</th>\n",
       "      <td>186232945.75</td>\n",
       "    </tr>\n",
       "    <tr>\n",
       "      <th>50%</th>\n",
       "      <td>482054780.00</td>\n",
       "    </tr>\n",
       "    <tr>\n",
       "      <th>75%</th>\n",
       "      <td>1124367826.75</td>\n",
       "    </tr>\n",
       "    <tr>\n",
       "      <th>max</th>\n",
       "      <td>47548839843.00</td>\n",
       "    </tr>\n",
       "  </tbody>\n",
       "</table>\n",
       "</div>"
      ],
      "text/plain": [
       "         Video views\n",
       "count        5000.00\n",
       "mean   1071449400.15\n",
       "std    2003843972.12\n",
       "min            75.00\n",
       "25%     186232945.75\n",
       "50%     482054780.00\n",
       "75%    1124367826.75\n",
       "max   47548839843.00"
      ]
     },
     "execution_count": 11,
     "metadata": {},
     "output_type": "execute_result"
    }
   ],
   "source": [
    "data.describe()"
   ]
  },
  {
   "cell_type": "code",
   "execution_count": 12,
   "id": "e642e00e",
   "metadata": {},
   "outputs": [],
   "source": [
    "import numpy as np"
   ]
  },
  {
   "cell_type": "code",
   "execution_count": 13,
   "id": "d5b28252",
   "metadata": {},
   "outputs": [],
   "source": [
    "data=data.replace ('--',np.nan,regex=True)"
   ]
  },
  {
   "cell_type": "code",
   "execution_count": 14,
   "id": "39c0ba1a",
   "metadata": {},
   "outputs": [
    {
     "data": {
      "text/html": [
       "<div>\n",
       "<style scoped>\n",
       "    .dataframe tbody tr th:only-of-type {\n",
       "        vertical-align: middle;\n",
       "    }\n",
       "\n",
       "    .dataframe tbody tr th {\n",
       "        vertical-align: top;\n",
       "    }\n",
       "\n",
       "    .dataframe thead th {\n",
       "        text-align: right;\n",
       "    }\n",
       "</style>\n",
       "<table border=\"1\" class=\"dataframe\">\n",
       "  <thead>\n",
       "    <tr style=\"text-align: right;\">\n",
       "      <th></th>\n",
       "      <th>Rank</th>\n",
       "      <th>Grade</th>\n",
       "      <th>Channel name</th>\n",
       "      <th>Video Uploads</th>\n",
       "      <th>Subscribers</th>\n",
       "      <th>Video views</th>\n",
       "    </tr>\n",
       "  </thead>\n",
       "  <tbody>\n",
       "    <tr>\n",
       "      <th>0</th>\n",
       "      <td>1st</td>\n",
       "      <td>A++</td>\n",
       "      <td>Zee TV</td>\n",
       "      <td>82757</td>\n",
       "      <td>18752951</td>\n",
       "      <td>20869786591</td>\n",
       "    </tr>\n",
       "    <tr>\n",
       "      <th>1</th>\n",
       "      <td>2nd</td>\n",
       "      <td>A++</td>\n",
       "      <td>T-Series</td>\n",
       "      <td>12661</td>\n",
       "      <td>61196302</td>\n",
       "      <td>47548839843</td>\n",
       "    </tr>\n",
       "    <tr>\n",
       "      <th>2</th>\n",
       "      <td>3rd</td>\n",
       "      <td>A++</td>\n",
       "      <td>Cocomelon - Nursery Rhymes</td>\n",
       "      <td>373</td>\n",
       "      <td>19238251</td>\n",
       "      <td>9793305082</td>\n",
       "    </tr>\n",
       "    <tr>\n",
       "      <th>3</th>\n",
       "      <td>4th</td>\n",
       "      <td>A++</td>\n",
       "      <td>SET India</td>\n",
       "      <td>27323</td>\n",
       "      <td>31180559</td>\n",
       "      <td>22675948293</td>\n",
       "    </tr>\n",
       "    <tr>\n",
       "      <th>4</th>\n",
       "      <td>5th</td>\n",
       "      <td>A++</td>\n",
       "      <td>WWE</td>\n",
       "      <td>36756</td>\n",
       "      <td>32852346</td>\n",
       "      <td>26273668433</td>\n",
       "    </tr>\n",
       "    <tr>\n",
       "      <th>5</th>\n",
       "      <td>6th</td>\n",
       "      <td>A++</td>\n",
       "      <td>Movieclips</td>\n",
       "      <td>30243</td>\n",
       "      <td>17149705</td>\n",
       "      <td>16618094724</td>\n",
       "    </tr>\n",
       "    <tr>\n",
       "      <th>6</th>\n",
       "      <td>7th</td>\n",
       "      <td>A++</td>\n",
       "      <td>netd müzik</td>\n",
       "      <td>8500</td>\n",
       "      <td>11373567</td>\n",
       "      <td>23898730764</td>\n",
       "    </tr>\n",
       "    <tr>\n",
       "      <th>7</th>\n",
       "      <td>8th</td>\n",
       "      <td>A++</td>\n",
       "      <td>ABS-CBN Entertainment</td>\n",
       "      <td>100147</td>\n",
       "      <td>12149206</td>\n",
       "      <td>17202609850</td>\n",
       "    </tr>\n",
       "    <tr>\n",
       "      <th>8</th>\n",
       "      <td>9th</td>\n",
       "      <td>A++</td>\n",
       "      <td>Ryan ToysReview</td>\n",
       "      <td>1140</td>\n",
       "      <td>16082927</td>\n",
       "      <td>24518098041</td>\n",
       "    </tr>\n",
       "    <tr>\n",
       "      <th>9</th>\n",
       "      <td>10th</td>\n",
       "      <td>A++</td>\n",
       "      <td>Zee Marathi</td>\n",
       "      <td>74607</td>\n",
       "      <td>2841811</td>\n",
       "      <td>2591830307</td>\n",
       "    </tr>\n",
       "    <tr>\n",
       "      <th>10</th>\n",
       "      <td>11th</td>\n",
       "      <td>A+</td>\n",
       "      <td>5-Minute Crafts</td>\n",
       "      <td>2085</td>\n",
       "      <td>33492951</td>\n",
       "      <td>8587520379</td>\n",
       "    </tr>\n",
       "    <tr>\n",
       "      <th>11</th>\n",
       "      <td>12th</td>\n",
       "      <td>A+</td>\n",
       "      <td>Canal KondZilla</td>\n",
       "      <td>822</td>\n",
       "      <td>39409726</td>\n",
       "      <td>19291034467</td>\n",
       "    </tr>\n",
       "    <tr>\n",
       "      <th>12</th>\n",
       "      <td>13th</td>\n",
       "      <td>A+</td>\n",
       "      <td>Like Nastya Vlog</td>\n",
       "      <td>150</td>\n",
       "      <td>7662886</td>\n",
       "      <td>2540099931</td>\n",
       "    </tr>\n",
       "    <tr>\n",
       "      <th>13</th>\n",
       "      <td>14th</td>\n",
       "      <td>A+</td>\n",
       "      <td>Ozuna</td>\n",
       "      <td>50</td>\n",
       "      <td>18824912</td>\n",
       "      <td>8727783225</td>\n",
       "    </tr>\n",
       "    <tr>\n",
       "      <th>14</th>\n",
       "      <td>15th</td>\n",
       "      <td>A+</td>\n",
       "      <td>Wave Music</td>\n",
       "      <td>16119</td>\n",
       "      <td>15899764</td>\n",
       "      <td>10989179147</td>\n",
       "    </tr>\n",
       "    <tr>\n",
       "      <th>15</th>\n",
       "      <td>16th</td>\n",
       "      <td>A+</td>\n",
       "      <td>Ch3Thailand</td>\n",
       "      <td>49239</td>\n",
       "      <td>11569723</td>\n",
       "      <td>9388600275</td>\n",
       "    </tr>\n",
       "    <tr>\n",
       "      <th>16</th>\n",
       "      <td>17th</td>\n",
       "      <td>A+</td>\n",
       "      <td>WORLDSTARHIPHOP</td>\n",
       "      <td>4778</td>\n",
       "      <td>15830098</td>\n",
       "      <td>11102158475</td>\n",
       "    </tr>\n",
       "    <tr>\n",
       "      <th>17</th>\n",
       "      <td>18th</td>\n",
       "      <td>A+</td>\n",
       "      <td>Vlad and Nikita</td>\n",
       "      <td>53</td>\n",
       "      <td>NaN</td>\n",
       "      <td>1428274554</td>\n",
       "    </tr>\n",
       "    <tr>\n",
       "      <th>18</th>\n",
       "      <td>19th</td>\n",
       "      <td>A+</td>\n",
       "      <td>Badabun</td>\n",
       "      <td>3060</td>\n",
       "      <td>23603062</td>\n",
       "      <td>5860444053</td>\n",
       "    </tr>\n",
       "    <tr>\n",
       "      <th>19</th>\n",
       "      <td>20th</td>\n",
       "      <td>A+</td>\n",
       "      <td>WorkpointOfficial</td>\n",
       "      <td>24287</td>\n",
       "      <td>17687229</td>\n",
       "      <td>14022189654</td>\n",
       "    </tr>\n",
       "    <tr>\n",
       "      <th>20</th>\n",
       "      <td>21st</td>\n",
       "      <td>A+</td>\n",
       "      <td>xxxtentacion</td>\n",
       "      <td>48</td>\n",
       "      <td>11593509</td>\n",
       "      <td>2029279311</td>\n",
       "    </tr>\n",
       "    <tr>\n",
       "      <th>21</th>\n",
       "      <td>22nd</td>\n",
       "      <td>A+</td>\n",
       "      <td>Zee Music Company</td>\n",
       "      <td>3403</td>\n",
       "      <td>23440427</td>\n",
       "      <td>11666909155</td>\n",
       "    </tr>\n",
       "    <tr>\n",
       "      <th>22</th>\n",
       "      <td>23rd</td>\n",
       "      <td>A+</td>\n",
       "      <td>SAB TV</td>\n",
       "      <td>19358</td>\n",
       "      <td>11347420</td>\n",
       "      <td>9572788450</td>\n",
       "    </tr>\n",
       "    <tr>\n",
       "      <th>23</th>\n",
       "      <td>24th</td>\n",
       "      <td>A+</td>\n",
       "      <td>DeadloxMC</td>\n",
       "      <td>1833</td>\n",
       "      <td>2137907</td>\n",
       "      <td>245437560</td>\n",
       "    </tr>\n",
       "    <tr>\n",
       "      <th>24</th>\n",
       "      <td>25th</td>\n",
       "      <td>A+</td>\n",
       "      <td>ETV Andhra Pradesh</td>\n",
       "      <td>186194</td>\n",
       "      <td>712562</td>\n",
       "      <td>349096736</td>\n",
       "    </tr>\n",
       "    <tr>\n",
       "      <th>25</th>\n",
       "      <td>26th</td>\n",
       "      <td>A+</td>\n",
       "      <td>Shemaroo Filmi Gaane</td>\n",
       "      <td>5076</td>\n",
       "      <td>14469618</td>\n",
       "      <td>6585569190</td>\n",
       "    </tr>\n",
       "    <tr>\n",
       "      <th>26</th>\n",
       "      <td>27th</td>\n",
       "      <td>A+</td>\n",
       "      <td>ibighit</td>\n",
       "      <td>277</td>\n",
       "      <td>16924523</td>\n",
       "      <td>3437613314</td>\n",
       "    </tr>\n",
       "    <tr>\n",
       "      <th>27</th>\n",
       "      <td>28th</td>\n",
       "      <td>A+</td>\n",
       "      <td>El Reino Infantil</td>\n",
       "      <td>555</td>\n",
       "      <td>15836366</td>\n",
       "      <td>16395683234</td>\n",
       "    </tr>\n",
       "    <tr>\n",
       "      <th>28</th>\n",
       "      <td>29th</td>\n",
       "      <td>A+</td>\n",
       "      <td>Zee Telugu</td>\n",
       "      <td>92250</td>\n",
       "      <td>2902714</td>\n",
       "      <td>2754482753</td>\n",
       "    </tr>\n",
       "    <tr>\n",
       "      <th>29</th>\n",
       "      <td>30th</td>\n",
       "      <td>A+</td>\n",
       "      <td>Kirin AMV's</td>\n",
       "      <td>230</td>\n",
       "      <td>459906</td>\n",
       "      <td>224608044</td>\n",
       "    </tr>\n",
       "  </tbody>\n",
       "</table>\n",
       "</div>"
      ],
      "text/plain": [
       "    Rank Grade                Channel name Video Uploads Subscribers  \\\n",
       "0    1st  A++                       Zee TV         82757    18752951   \n",
       "1    2nd  A++                     T-Series         12661    61196302   \n",
       "2    3rd  A++   Cocomelon - Nursery Rhymes           373    19238251   \n",
       "3    4th  A++                    SET India         27323    31180559   \n",
       "4    5th  A++                          WWE         36756    32852346   \n",
       "5    6th  A++                   Movieclips         30243    17149705   \n",
       "6    7th  A++                   netd müzik          8500    11373567   \n",
       "7    8th  A++        ABS-CBN Entertainment        100147    12149206   \n",
       "8    9th  A++              Ryan ToysReview          1140    16082927   \n",
       "9   10th  A++                  Zee Marathi         74607     2841811   \n",
       "10  11th   A+              5-Minute Crafts          2085    33492951   \n",
       "11  12th   A+              Canal KondZilla           822    39409726   \n",
       "12  13th   A+             Like Nastya Vlog           150     7662886   \n",
       "13  14th   A+                        Ozuna            50    18824912   \n",
       "14  15th   A+                   Wave Music         16119    15899764   \n",
       "15  16th   A+                  Ch3Thailand         49239    11569723   \n",
       "16  17th   A+              WORLDSTARHIPHOP          4778    15830098   \n",
       "17  18th   A+              Vlad and Nikita            53         NaN   \n",
       "18  19th   A+                      Badabun          3060    23603062   \n",
       "19  20th   A+            WorkpointOfficial         24287    17687229   \n",
       "20  21st   A+                 xxxtentacion            48    11593509   \n",
       "21  22nd   A+            Zee Music Company          3403    23440427   \n",
       "22  23rd   A+                       SAB TV         19358    11347420   \n",
       "23  24th   A+                    DeadloxMC          1833     2137907   \n",
       "24  25th   A+           ETV Andhra Pradesh        186194      712562   \n",
       "25  26th   A+         Shemaroo Filmi Gaane          5076    14469618   \n",
       "26  27th   A+                      ibighit           277    16924523   \n",
       "27  28th   A+            El Reino Infantil           555    15836366   \n",
       "28  29th   A+                   Zee Telugu         92250     2902714   \n",
       "29  30th   A+                  Kirin AMV's           230      459906   \n",
       "\n",
       "    Video views  \n",
       "0   20869786591  \n",
       "1   47548839843  \n",
       "2    9793305082  \n",
       "3   22675948293  \n",
       "4   26273668433  \n",
       "5   16618094724  \n",
       "6   23898730764  \n",
       "7   17202609850  \n",
       "8   24518098041  \n",
       "9    2591830307  \n",
       "10   8587520379  \n",
       "11  19291034467  \n",
       "12   2540099931  \n",
       "13   8727783225  \n",
       "14  10989179147  \n",
       "15   9388600275  \n",
       "16  11102158475  \n",
       "17   1428274554  \n",
       "18   5860444053  \n",
       "19  14022189654  \n",
       "20   2029279311  \n",
       "21  11666909155  \n",
       "22   9572788450  \n",
       "23    245437560  \n",
       "24    349096736  \n",
       "25   6585569190  \n",
       "26   3437613314  \n",
       "27  16395683234  \n",
       "28   2754482753  \n",
       "29    224608044  "
      ]
     },
     "execution_count": 14,
     "metadata": {},
     "output_type": "execute_result"
    }
   ],
   "source": [
    "data.head(30)"
   ]
  },
  {
   "cell_type": "code",
   "execution_count": 15,
   "id": "37550299",
   "metadata": {},
   "outputs": [
    {
     "data": {
      "text/plain": [
       "Rank               0\n",
       "Grade              0\n",
       "Channel name       0\n",
       "Video Uploads      6\n",
       "Subscribers      387\n",
       "Video views        0\n",
       "dtype: int64"
      ]
     },
     "execution_count": 15,
     "metadata": {},
     "output_type": "execute_result"
    }
   ],
   "source": [
    "data.isnull().sum()"
   ]
  },
  {
   "cell_type": "code",
   "execution_count": 16,
   "id": "5a292460",
   "metadata": {},
   "outputs": [],
   "source": [
    "per_missing=data.isnull().sum()*100/len(data)"
   ]
  },
  {
   "cell_type": "code",
   "execution_count": 17,
   "id": "706c499c",
   "metadata": {},
   "outputs": [
    {
     "data": {
      "text/plain": [
       "Rank            0.00\n",
       "Grade           0.00\n",
       "Channel name    0.00\n",
       "Video Uploads   0.12\n",
       "Subscribers     7.74\n",
       "Video views     0.00\n",
       "dtype: float64"
      ]
     },
     "execution_count": 17,
     "metadata": {},
     "output_type": "execute_result"
    }
   ],
   "source": [
    "per_missing"
   ]
  },
  {
   "cell_type": "code",
   "execution_count": 18,
   "id": "d1b462f0",
   "metadata": {},
   "outputs": [
    {
     "data": {
      "text/plain": [
       "<Axes: >"
      ]
     },
     "execution_count": 18,
     "metadata": {},
     "output_type": "execute_result"
    },
    {
     "data": {
      "image/png": "[encoded data removed]",
      "text/plain": [
       "<Figure size 640x480 with 2 Axes>"
      ]
     },
     "metadata": {},
     "output_type": "display_data"
    }
   ],
   "source": [
    "sns.heatmap(data.isnull())"
   ]
  },
  {
   "cell_type": "code",
   "execution_count": 19,
   "id": "019dbc1b",
   "metadata": {},
   "outputs": [],
   "source": [
    "data.dropna(axis=0,inplace=True)"
   ]
  },
  {
   "cell_type": "code",
   "execution_count": 20,
   "id": "5b36cf27",
   "metadata": {},
   "outputs": [
    {
     "data": {
      "text/plain": [
       "<Axes: >"
      ]
     },
     "execution_count": 20,
     "metadata": {},
     "output_type": "execute_result"
    },
    {
     "data": {
      "image/png": "[encoded data removed]",
      "text/plain": [
       "<Figure size 640x480 with 2 Axes>"
      ]
     },
     "metadata": {},
     "output_type": "display_data"
    }
   ],
   "source": [
    "sns.heatmap(data.isnull())"
   ]
  },
  {
   "cell_type": "code",
   "execution_count": 21,
   "id": "14d4ce8f",
   "metadata": {},
   "outputs": [
    {
     "data": {
      "text/html": [
       "<div>\n",
       "<style scoped>\n",
       "    .dataframe tbody tr th:only-of-type {\n",
       "        vertical-align: middle;\n",
       "    }\n",
       "\n",
       "    .dataframe tbody tr th {\n",
       "        vertical-align: top;\n",
       "    }\n",
       "\n",
       "    .dataframe thead th {\n",
       "        text-align: right;\n",
       "    }\n",
       "</style>\n",
       "<table border=\"1\" class=\"dataframe\">\n",
       "  <thead>\n",
       "    <tr style=\"text-align: right;\">\n",
       "      <th></th>\n",
       "      <th>Rank</th>\n",
       "      <th>Grade</th>\n",
       "      <th>Channel name</th>\n",
       "      <th>Video Uploads</th>\n",
       "      <th>Subscribers</th>\n",
       "      <th>Video views</th>\n",
       "    </tr>\n",
       "  </thead>\n",
       "  <tbody>\n",
       "    <tr>\n",
       "      <th>0</th>\n",
       "      <td>1st</td>\n",
       "      <td>A++</td>\n",
       "      <td>Zee TV</td>\n",
       "      <td>82757</td>\n",
       "      <td>18752951</td>\n",
       "      <td>20869786591</td>\n",
       "    </tr>\n",
       "    <tr>\n",
       "      <th>1</th>\n",
       "      <td>2nd</td>\n",
       "      <td>A++</td>\n",
       "      <td>T-Series</td>\n",
       "      <td>12661</td>\n",
       "      <td>61196302</td>\n",
       "      <td>47548839843</td>\n",
       "    </tr>\n",
       "    <tr>\n",
       "      <th>2</th>\n",
       "      <td>3rd</td>\n",
       "      <td>A++</td>\n",
       "      <td>Cocomelon - Nursery Rhymes</td>\n",
       "      <td>373</td>\n",
       "      <td>19238251</td>\n",
       "      <td>9793305082</td>\n",
       "    </tr>\n",
       "    <tr>\n",
       "      <th>3</th>\n",
       "      <td>4th</td>\n",
       "      <td>A++</td>\n",
       "      <td>SET India</td>\n",
       "      <td>27323</td>\n",
       "      <td>31180559</td>\n",
       "      <td>22675948293</td>\n",
       "    </tr>\n",
       "    <tr>\n",
       "      <th>4</th>\n",
       "      <td>5th</td>\n",
       "      <td>A++</td>\n",
       "      <td>WWE</td>\n",
       "      <td>36756</td>\n",
       "      <td>32852346</td>\n",
       "      <td>26273668433</td>\n",
       "    </tr>\n",
       "  </tbody>\n",
       "</table>\n",
       "</div>"
      ],
      "text/plain": [
       "  Rank Grade                Channel name Video Uploads Subscribers  \\\n",
       "0  1st  A++                       Zee TV         82757    18752951   \n",
       "1  2nd  A++                     T-Series         12661    61196302   \n",
       "2  3rd  A++   Cocomelon - Nursery Rhymes           373    19238251   \n",
       "3  4th  A++                    SET India         27323    31180559   \n",
       "4  5th  A++                          WWE         36756    32852346   \n",
       "\n",
       "   Video views  \n",
       "0  20869786591  \n",
       "1  47548839843  \n",
       "2   9793305082  \n",
       "3  22675948293  \n",
       "4  26273668433  "
      ]
     },
     "execution_count": 21,
     "metadata": {},
     "output_type": "execute_result"
    }
   ],
   "source": [
    "data.head()"
   ]
  },
  {
   "cell_type": "code",
   "execution_count": 22,
   "id": "4e1103e7",
   "metadata": {},
   "outputs": [
    {
     "data": {
      "text/html": [
       "<div>\n",
       "<style scoped>\n",
       "    .dataframe tbody tr th:only-of-type {\n",
       "        vertical-align: middle;\n",
       "    }\n",
       "\n",
       "    .dataframe tbody tr th {\n",
       "        vertical-align: top;\n",
       "    }\n",
       "\n",
       "    .dataframe thead th {\n",
       "        text-align: right;\n",
       "    }\n",
       "</style>\n",
       "<table border=\"1\" class=\"dataframe\">\n",
       "  <thead>\n",
       "    <tr style=\"text-align: right;\">\n",
       "      <th></th>\n",
       "      <th>Rank</th>\n",
       "      <th>Grade</th>\n",
       "      <th>Channel name</th>\n",
       "      <th>Video Uploads</th>\n",
       "      <th>Subscribers</th>\n",
       "      <th>Video views</th>\n",
       "    </tr>\n",
       "  </thead>\n",
       "  <tbody>\n",
       "    <tr>\n",
       "      <th>4995</th>\n",
       "      <td>4,996th</td>\n",
       "      <td>B+</td>\n",
       "      <td>Uras Benlioğlu</td>\n",
       "      <td>706</td>\n",
       "      <td>2072942</td>\n",
       "      <td>441202795</td>\n",
       "    </tr>\n",
       "    <tr>\n",
       "      <th>4996</th>\n",
       "      <td>4,997th</td>\n",
       "      <td>B+</td>\n",
       "      <td>HI-TECH MUSIC LTD</td>\n",
       "      <td>797</td>\n",
       "      <td>1055091</td>\n",
       "      <td>377331722</td>\n",
       "    </tr>\n",
       "    <tr>\n",
       "      <th>4997</th>\n",
       "      <td>4,998th</td>\n",
       "      <td>B+</td>\n",
       "      <td>Mastersaint</td>\n",
       "      <td>110</td>\n",
       "      <td>3265735</td>\n",
       "      <td>311758426</td>\n",
       "    </tr>\n",
       "    <tr>\n",
       "      <th>4998</th>\n",
       "      <td>4,999th</td>\n",
       "      <td>B+</td>\n",
       "      <td>Bruce McIntosh</td>\n",
       "      <td>3475</td>\n",
       "      <td>32990</td>\n",
       "      <td>14563764</td>\n",
       "    </tr>\n",
       "    <tr>\n",
       "      <th>4999</th>\n",
       "      <td>5,000th</td>\n",
       "      <td>B+</td>\n",
       "      <td>SehatAQUA</td>\n",
       "      <td>254</td>\n",
       "      <td>21172</td>\n",
       "      <td>73312511</td>\n",
       "    </tr>\n",
       "  </tbody>\n",
       "</table>\n",
       "</div>"
      ],
      "text/plain": [
       "         Rank Grade       Channel name Video Uploads Subscribers  Video views\n",
       "4995  4,996th   B+      Uras Benlioğlu           706     2072942    441202795\n",
       "4996  4,997th   B+   HI-TECH MUSIC LTD           797     1055091    377331722\n",
       "4997  4,998th   B+         Mastersaint           110     3265735    311758426\n",
       "4998  4,999th   B+      Bruce McIntosh          3475       32990     14563764\n",
       "4999  5,000th   B+           SehatAQUA           254       21172     73312511"
      ]
     },
     "execution_count": 22,
     "metadata": {},
     "output_type": "execute_result"
    }
   ],
   "source": [
    "data.tail()"
   ]
  },
  {
   "cell_type": "code",
   "execution_count": 23,
   "id": "ef795901",
   "metadata": {},
   "outputs": [
    {
     "data": {
      "text/plain": [
       "Rank             object\n",
       "Grade            object\n",
       "Channel name     object\n",
       "Video Uploads    object\n",
       "Subscribers      object\n",
       "Video views       int64\n",
       "dtype: object"
      ]
     },
     "execution_count": 23,
     "metadata": {},
     "output_type": "execute_result"
    }
   ],
   "source": [
    "data.dtypes"
   ]
  },
  {
   "cell_type": "code",
   "execution_count": 24,
   "id": "876c1fb5",
   "metadata": {},
   "outputs": [],
   "source": [
    "data['Rank']=data['Rank'].str[0:-2]"
   ]
  },
  {
   "cell_type": "code",
   "execution_count": 25,
   "id": "26895995",
   "metadata": {},
   "outputs": [],
   "source": [
    "data['Rank']=data['Rank'].str.replace(',','').astype('int')"
   ]
  },
  {
   "cell_type": "code",
   "execution_count": 26,
   "id": "d35215cd",
   "metadata": {},
   "outputs": [
    {
     "data": {
      "text/html": [
       "<div>\n",
       "<style scoped>\n",
       "    .dataframe tbody tr th:only-of-type {\n",
       "        vertical-align: middle;\n",
       "    }\n",
       "\n",
       "    .dataframe tbody tr th {\n",
       "        vertical-align: top;\n",
       "    }\n",
       "\n",
       "    .dataframe thead th {\n",
       "        text-align: right;\n",
       "    }\n",
       "</style>\n",
       "<table border=\"1\" class=\"dataframe\">\n",
       "  <thead>\n",
       "    <tr style=\"text-align: right;\">\n",
       "      <th></th>\n",
       "      <th>Rank</th>\n",
       "      <th>Grade</th>\n",
       "      <th>Channel name</th>\n",
       "      <th>Video Uploads</th>\n",
       "      <th>Subscribers</th>\n",
       "      <th>Video views</th>\n",
       "    </tr>\n",
       "  </thead>\n",
       "  <tbody>\n",
       "    <tr>\n",
       "      <th>4995</th>\n",
       "      <td>4996</td>\n",
       "      <td>B+</td>\n",
       "      <td>Uras Benlioğlu</td>\n",
       "      <td>706</td>\n",
       "      <td>2072942</td>\n",
       "      <td>441202795</td>\n",
       "    </tr>\n",
       "    <tr>\n",
       "      <th>4996</th>\n",
       "      <td>4997</td>\n",
       "      <td>B+</td>\n",
       "      <td>HI-TECH MUSIC LTD</td>\n",
       "      <td>797</td>\n",
       "      <td>1055091</td>\n",
       "      <td>377331722</td>\n",
       "    </tr>\n",
       "    <tr>\n",
       "      <th>4997</th>\n",
       "      <td>4998</td>\n",
       "      <td>B+</td>\n",
       "      <td>Mastersaint</td>\n",
       "      <td>110</td>\n",
       "      <td>3265735</td>\n",
       "      <td>311758426</td>\n",
       "    </tr>\n",
       "    <tr>\n",
       "      <th>4998</th>\n",
       "      <td>4999</td>\n",
       "      <td>B+</td>\n",
       "      <td>Bruce McIntosh</td>\n",
       "      <td>3475</td>\n",
       "      <td>32990</td>\n",
       "      <td>14563764</td>\n",
       "    </tr>\n",
       "    <tr>\n",
       "      <th>4999</th>\n",
       "      <td>5000</td>\n",
       "      <td>B+</td>\n",
       "      <td>SehatAQUA</td>\n",
       "      <td>254</td>\n",
       "      <td>21172</td>\n",
       "      <td>73312511</td>\n",
       "    </tr>\n",
       "  </tbody>\n",
       "</table>\n",
       "</div>"
      ],
      "text/plain": [
       "      Rank Grade       Channel name Video Uploads Subscribers  Video views\n",
       "4995  4996   B+      Uras Benlioğlu           706     2072942    441202795\n",
       "4996  4997   B+   HI-TECH MUSIC LTD           797     1055091    377331722\n",
       "4997  4998   B+         Mastersaint           110     3265735    311758426\n",
       "4998  4999   B+      Bruce McIntosh          3475       32990     14563764\n",
       "4999  5000   B+           SehatAQUA           254       21172     73312511"
      ]
     },
     "execution_count": 26,
     "metadata": {},
     "output_type": "execute_result"
    }
   ],
   "source": [
    "data.tail()"
   ]
  },
  {
   "cell_type": "code",
   "execution_count": 27,
   "id": "cd758cc0",
   "metadata": {},
   "outputs": [
    {
     "data": {
      "text/html": [
       "<div>\n",
       "<style scoped>\n",
       "    .dataframe tbody tr th:only-of-type {\n",
       "        vertical-align: middle;\n",
       "    }\n",
       "\n",
       "    .dataframe tbody tr th {\n",
       "        vertical-align: top;\n",
       "    }\n",
       "\n",
       "    .dataframe thead th {\n",
       "        text-align: right;\n",
       "    }\n",
       "</style>\n",
       "<table border=\"1\" class=\"dataframe\">\n",
       "  <thead>\n",
       "    <tr style=\"text-align: right;\">\n",
       "      <th></th>\n",
       "      <th>Rank</th>\n",
       "      <th>Grade</th>\n",
       "      <th>Channel name</th>\n",
       "      <th>Video Uploads</th>\n",
       "      <th>Subscribers</th>\n",
       "      <th>Video views</th>\n",
       "    </tr>\n",
       "  </thead>\n",
       "  <tbody>\n",
       "    <tr>\n",
       "      <th>0</th>\n",
       "      <td>1</td>\n",
       "      <td>A++</td>\n",
       "      <td>Zee TV</td>\n",
       "      <td>82757</td>\n",
       "      <td>18752951</td>\n",
       "      <td>20869786591</td>\n",
       "    </tr>\n",
       "    <tr>\n",
       "      <th>1</th>\n",
       "      <td>2</td>\n",
       "      <td>A++</td>\n",
       "      <td>T-Series</td>\n",
       "      <td>12661</td>\n",
       "      <td>61196302</td>\n",
       "      <td>47548839843</td>\n",
       "    </tr>\n",
       "    <tr>\n",
       "      <th>2</th>\n",
       "      <td>3</td>\n",
       "      <td>A++</td>\n",
       "      <td>Cocomelon - Nursery Rhymes</td>\n",
       "      <td>373</td>\n",
       "      <td>19238251</td>\n",
       "      <td>9793305082</td>\n",
       "    </tr>\n",
       "    <tr>\n",
       "      <th>3</th>\n",
       "      <td>4</td>\n",
       "      <td>A++</td>\n",
       "      <td>SET India</td>\n",
       "      <td>27323</td>\n",
       "      <td>31180559</td>\n",
       "      <td>22675948293</td>\n",
       "    </tr>\n",
       "    <tr>\n",
       "      <th>4</th>\n",
       "      <td>5</td>\n",
       "      <td>A++</td>\n",
       "      <td>WWE</td>\n",
       "      <td>36756</td>\n",
       "      <td>32852346</td>\n",
       "      <td>26273668433</td>\n",
       "    </tr>\n",
       "  </tbody>\n",
       "</table>\n",
       "</div>"
      ],
      "text/plain": [
       "   Rank Grade                Channel name Video Uploads Subscribers  \\\n",
       "0     1  A++                       Zee TV         82757    18752951   \n",
       "1     2  A++                     T-Series         12661    61196302   \n",
       "2     3  A++   Cocomelon - Nursery Rhymes           373    19238251   \n",
       "3     4  A++                    SET India         27323    31180559   \n",
       "4     5  A++                          WWE         36756    32852346   \n",
       "\n",
       "   Video views  \n",
       "0  20869786591  \n",
       "1  47548839843  \n",
       "2   9793305082  \n",
       "3  22675948293  \n",
       "4  26273668433  "
      ]
     },
     "execution_count": 27,
     "metadata": {},
     "output_type": "execute_result"
    }
   ],
   "source": [
    "data.head()"
   ]
  },
  {
   "cell_type": "code",
   "execution_count": 28,
   "id": "c356204c",
   "metadata": {},
   "outputs": [
    {
     "data": {
      "text/plain": [
       "Rank              int32\n",
       "Grade            object\n",
       "Channel name     object\n",
       "Video Uploads    object\n",
       "Subscribers      object\n",
       "Video views       int64\n",
       "dtype: object"
      ]
     },
     "execution_count": 28,
     "metadata": {},
     "output_type": "execute_result"
    }
   ],
   "source": [
    "data.dtypes"
   ]
  },
  {
   "cell_type": "code",
   "execution_count": 29,
   "id": "30889fa2",
   "metadata": {},
   "outputs": [
    {
     "data": {
      "text/plain": [
       "Index(['Rank', 'Grade', 'Channel name', 'Video Uploads', 'Subscribers',\n",
       "       'Video views'],\n",
       "      dtype='object')"
      ]
     },
     "execution_count": 29,
     "metadata": {},
     "output_type": "execute_result"
    }
   ],
   "source": [
    "data.columns"
   ]
  },
  {
   "cell_type": "code",
   "execution_count": 30,
   "id": "21491cca",
   "metadata": {},
   "outputs": [],
   "source": [
    "data['Video Uploads']=data['Video Uploads'].astype('int')"
   ]
  },
  {
   "cell_type": "code",
   "execution_count": 31,
   "id": "7c9715b0",
   "metadata": {},
   "outputs": [],
   "source": [
    "data['Subscribers']=data['Subscribers'].astype('int')"
   ]
  },
  {
   "cell_type": "code",
   "execution_count": 32,
   "id": "4e49b4f2",
   "metadata": {},
   "outputs": [
    {
     "data": {
      "text/plain": [
       "Rank              int32\n",
       "Grade            object\n",
       "Channel name     object\n",
       "Video Uploads     int32\n",
       "Subscribers       int32\n",
       "Video views       int64\n",
       "dtype: object"
      ]
     },
     "execution_count": 32,
     "metadata": {},
     "output_type": "execute_result"
    }
   ],
   "source": [
    "data.dtypes"
   ]
  },
  {
   "cell_type": "code",
   "execution_count": 33,
   "id": "8a233bf9",
   "metadata": {},
   "outputs": [
    {
     "data": {
      "text/plain": [
       "array(['A++ ', 'A+ ', 'A ', 'A- ', 'B+ '], dtype=object)"
      ]
     },
     "execution_count": 33,
     "metadata": {},
     "output_type": "execute_result"
    }
   ],
   "source": [
    "data['Grade'].unique()"
   ]
  },
  {
   "cell_type": "code",
   "execution_count": 34,
   "id": "6680a764",
   "metadata": {},
   "outputs": [],
   "source": [
    "data['Grade']=data['Grade'].map({'A++ ':5,'A+ ':4,'A ':3,'A- ':2,'B+ ':1})"
   ]
  },
  {
   "cell_type": "code",
   "execution_count": 35,
   "id": "3d5dd9a8",
   "metadata": {},
   "outputs": [],
   "source": [
    "data['Avg_views'] = data['Video views']/data['Video Uploads']"
   ]
  },
  {
   "cell_type": "code",
   "execution_count": 36,
   "id": "2199c777",
   "metadata": {},
   "outputs": [
    {
     "data": {
      "text/html": [
       "<div>\n",
       "<style scoped>\n",
       "    .dataframe tbody tr th:only-of-type {\n",
       "        vertical-align: middle;\n",
       "    }\n",
       "\n",
       "    .dataframe tbody tr th {\n",
       "        vertical-align: top;\n",
       "    }\n",
       "\n",
       "    .dataframe thead th {\n",
       "        text-align: right;\n",
       "    }\n",
       "</style>\n",
       "<table border=\"1\" class=\"dataframe\">\n",
       "  <thead>\n",
       "    <tr style=\"text-align: right;\">\n",
       "      <th></th>\n",
       "      <th>Rank</th>\n",
       "      <th>Grade</th>\n",
       "      <th>Channel name</th>\n",
       "      <th>Video Uploads</th>\n",
       "      <th>Subscribers</th>\n",
       "      <th>Video views</th>\n",
       "      <th>Avg_views</th>\n",
       "    </tr>\n",
       "  </thead>\n",
       "  <tbody>\n",
       "    <tr>\n",
       "      <th>0</th>\n",
       "      <td>1</td>\n",
       "      <td>5</td>\n",
       "      <td>Zee TV</td>\n",
       "      <td>82757</td>\n",
       "      <td>18752951</td>\n",
       "      <td>20869786591</td>\n",
       "      <td>252181.53</td>\n",
       "    </tr>\n",
       "    <tr>\n",
       "      <th>1</th>\n",
       "      <td>2</td>\n",
       "      <td>5</td>\n",
       "      <td>T-Series</td>\n",
       "      <td>12661</td>\n",
       "      <td>61196302</td>\n",
       "      <td>47548839843</td>\n",
       "      <td>3755535.89</td>\n",
       "    </tr>\n",
       "    <tr>\n",
       "      <th>2</th>\n",
       "      <td>3</td>\n",
       "      <td>5</td>\n",
       "      <td>Cocomelon - Nursery Rhymes</td>\n",
       "      <td>373</td>\n",
       "      <td>19238251</td>\n",
       "      <td>9793305082</td>\n",
       "      <td>26255509.60</td>\n",
       "    </tr>\n",
       "    <tr>\n",
       "      <th>3</th>\n",
       "      <td>4</td>\n",
       "      <td>5</td>\n",
       "      <td>SET India</td>\n",
       "      <td>27323</td>\n",
       "      <td>31180559</td>\n",
       "      <td>22675948293</td>\n",
       "      <td>829921.62</td>\n",
       "    </tr>\n",
       "    <tr>\n",
       "      <th>4</th>\n",
       "      <td>5</td>\n",
       "      <td>5</td>\n",
       "      <td>WWE</td>\n",
       "      <td>36756</td>\n",
       "      <td>32852346</td>\n",
       "      <td>26273668433</td>\n",
       "      <td>714813.05</td>\n",
       "    </tr>\n",
       "  </tbody>\n",
       "</table>\n",
       "</div>"
      ],
      "text/plain": [
       "   Rank  Grade                Channel name  Video Uploads  Subscribers  \\\n",
       "0     1      5                      Zee TV          82757     18752951   \n",
       "1     2      5                    T-Series          12661     61196302   \n",
       "2     3      5  Cocomelon - Nursery Rhymes            373     19238251   \n",
       "3     4      5                   SET India          27323     31180559   \n",
       "4     5      5                         WWE          36756     32852346   \n",
       "\n",
       "   Video views   Avg_views  \n",
       "0  20869786591   252181.53  \n",
       "1  47548839843  3755535.89  \n",
       "2   9793305082 26255509.60  \n",
       "3  22675948293   829921.62  \n",
       "4  26273668433   714813.05  "
      ]
     },
     "execution_count": 36,
     "metadata": {},
     "output_type": "execute_result"
    }
   ],
   "source": [
    "data.head()"
   ]
  },
  {
   "cell_type": "code",
   "execution_count": 37,
   "id": "b16e3695",
   "metadata": {},
   "outputs": [
    {
     "data": {
      "text/plain": [
       "Index(['Rank', 'Grade', 'Channel name', 'Video Uploads', 'Subscribers',\n",
       "       'Video views', 'Avg_views'],\n",
       "      dtype='object')"
      ]
     },
     "execution_count": 37,
     "metadata": {},
     "output_type": "execute_result"
    }
   ],
   "source": [
    "data.columns"
   ]
  },
  {
   "cell_type": "code",
   "execution_count": 38,
   "id": "313783c7",
   "metadata": {},
   "outputs": [
    {
     "data": {
      "text/html": [
       "<div>\n",
       "<style scoped>\n",
       "    .dataframe tbody tr th:only-of-type {\n",
       "        vertical-align: middle;\n",
       "    }\n",
       "\n",
       "    .dataframe tbody tr th {\n",
       "        vertical-align: top;\n",
       "    }\n",
       "\n",
       "    .dataframe thead th {\n",
       "        text-align: right;\n",
       "    }\n",
       "</style>\n",
       "<table border=\"1\" class=\"dataframe\">\n",
       "  <thead>\n",
       "    <tr style=\"text-align: right;\">\n",
       "      <th></th>\n",
       "      <th>Rank</th>\n",
       "      <th>Grade</th>\n",
       "      <th>Channel name</th>\n",
       "      <th>Video Uploads</th>\n",
       "      <th>Subscribers</th>\n",
       "      <th>Video views</th>\n",
       "      <th>Avg_views</th>\n",
       "    </tr>\n",
       "  </thead>\n",
       "  <tbody>\n",
       "    <tr>\n",
       "      <th>3453</th>\n",
       "      <td>3454</td>\n",
       "      <td>1</td>\n",
       "      <td>AP Archive</td>\n",
       "      <td>422326</td>\n",
       "      <td>746325</td>\n",
       "      <td>548619569</td>\n",
       "      <td>1299.04</td>\n",
       "    </tr>\n",
       "    <tr>\n",
       "      <th>1149</th>\n",
       "      <td>1150</td>\n",
       "      <td>2</td>\n",
       "      <td>YTN NEWS</td>\n",
       "      <td>355996</td>\n",
       "      <td>820108</td>\n",
       "      <td>1640347646</td>\n",
       "      <td>4607.77</td>\n",
       "    </tr>\n",
       "    <tr>\n",
       "      <th>2223</th>\n",
       "      <td>2224</td>\n",
       "      <td>1</td>\n",
       "      <td>SBS Drama</td>\n",
       "      <td>335521</td>\n",
       "      <td>1418619</td>\n",
       "      <td>1565758044</td>\n",
       "      <td>4666.65</td>\n",
       "    </tr>\n",
       "    <tr>\n",
       "      <th>323</th>\n",
       "      <td>324</td>\n",
       "      <td>3</td>\n",
       "      <td>GMA News</td>\n",
       "      <td>269065</td>\n",
       "      <td>2599175</td>\n",
       "      <td>2786949164</td>\n",
       "      <td>10357.90</td>\n",
       "    </tr>\n",
       "    <tr>\n",
       "      <th>2956</th>\n",
       "      <td>2957</td>\n",
       "      <td>1</td>\n",
       "      <td>MLB</td>\n",
       "      <td>267649</td>\n",
       "      <td>1434206</td>\n",
       "      <td>1329206392</td>\n",
       "      <td>4966.23</td>\n",
       "    </tr>\n",
       "    <tr>\n",
       "      <th>...</th>\n",
       "      <td>...</td>\n",
       "      <td>...</td>\n",
       "      <td>...</td>\n",
       "      <td>...</td>\n",
       "      <td>...</td>\n",
       "      <td>...</td>\n",
       "      <td>...</td>\n",
       "    </tr>\n",
       "    <tr>\n",
       "      <th>4100</th>\n",
       "      <td>4101</td>\n",
       "      <td>1</td>\n",
       "      <td>DenzelCurryVEVO</td>\n",
       "      <td>1</td>\n",
       "      <td>8012</td>\n",
       "      <td>25878252</td>\n",
       "      <td>25878252.00</td>\n",
       "    </tr>\n",
       "    <tr>\n",
       "      <th>2404</th>\n",
       "      <td>2405</td>\n",
       "      <td>1</td>\n",
       "      <td>ItsHARSH007 Gaming</td>\n",
       "      <td>1</td>\n",
       "      <td>23499</td>\n",
       "      <td>75</td>\n",
       "      <td>75.00</td>\n",
       "    </tr>\n",
       "    <tr>\n",
       "      <th>4474</th>\n",
       "      <td>4475</td>\n",
       "      <td>1</td>\n",
       "      <td>hyghhopes</td>\n",
       "      <td>1</td>\n",
       "      <td>15325</td>\n",
       "      <td>14842098</td>\n",
       "      <td>14842098.00</td>\n",
       "    </tr>\n",
       "    <tr>\n",
       "      <th>628</th>\n",
       "      <td>629</td>\n",
       "      <td>3</td>\n",
       "      <td>cocoz toon</td>\n",
       "      <td>1</td>\n",
       "      <td>2162992</td>\n",
       "      <td>333012122</td>\n",
       "      <td>333012122.00</td>\n",
       "    </tr>\n",
       "    <tr>\n",
       "      <th>4975</th>\n",
       "      <td>4976</td>\n",
       "      <td>1</td>\n",
       "      <td>Funny Kids</td>\n",
       "      <td>1</td>\n",
       "      <td>150091</td>\n",
       "      <td>21933876</td>\n",
       "      <td>21933876.00</td>\n",
       "    </tr>\n",
       "  </tbody>\n",
       "</table>\n",
       "<p>4610 rows × 7 columns</p>\n",
       "</div>"
      ],
      "text/plain": [
       "      Rank  Grade        Channel name  Video Uploads  Subscribers  \\\n",
       "3453  3454      1          AP Archive         422326       746325   \n",
       "1149  1150      2            YTN NEWS         355996       820108   \n",
       "2223  2224      1           SBS Drama         335521      1418619   \n",
       "323    324      3            GMA News         269065      2599175   \n",
       "2956  2957      1                 MLB         267649      1434206   \n",
       "...    ...    ...                 ...            ...          ...   \n",
       "4100  4101      1     DenzelCurryVEVO              1         8012   \n",
       "2404  2405      1  ItsHARSH007 Gaming              1        23499   \n",
       "4474  4475      1           hyghhopes              1        15325   \n",
       "628    629      3          cocoz toon              1      2162992   \n",
       "4975  4976      1          Funny Kids              1       150091   \n",
       "\n",
       "      Video views    Avg_views  \n",
       "3453    548619569      1299.04  \n",
       "1149   1640347646      4607.77  \n",
       "2223   1565758044      4666.65  \n",
       "323    2786949164     10357.90  \n",
       "2956   1329206392      4966.23  \n",
       "...           ...          ...  \n",
       "4100     25878252  25878252.00  \n",
       "2404           75        75.00  \n",
       "4474     14842098  14842098.00  \n",
       "628     333012122 333012122.00  \n",
       "4975     21933876  21933876.00  \n",
       "\n",
       "[4610 rows x 7 columns]"
      ]
     },
     "execution_count": 38,
     "metadata": {},
     "output_type": "execute_result"
    }
   ],
   "source": [
    "data.sort_values(by='Video Uploads',ascending=False)"
   ]
  },
  {
   "cell_type": "code",
   "execution_count": 39,
   "id": "3e1063bf",
   "metadata": {},
   "outputs": [
    {
     "data": {
      "text/html": [
       "<div>\n",
       "<style scoped>\n",
       "    .dataframe tbody tr th:only-of-type {\n",
       "        vertical-align: middle;\n",
       "    }\n",
       "\n",
       "    .dataframe tbody tr th {\n",
       "        vertical-align: top;\n",
       "    }\n",
       "\n",
       "    .dataframe thead th {\n",
       "        text-align: right;\n",
       "    }\n",
       "</style>\n",
       "<table border=\"1\" class=\"dataframe\">\n",
       "  <thead>\n",
       "    <tr style=\"text-align: right;\">\n",
       "      <th></th>\n",
       "      <th>Rank</th>\n",
       "      <th>Grade</th>\n",
       "      <th>Channel name</th>\n",
       "      <th>Video Uploads</th>\n",
       "      <th>Subscribers</th>\n",
       "      <th>Video views</th>\n",
       "      <th>Avg_views</th>\n",
       "    </tr>\n",
       "  </thead>\n",
       "  <tbody>\n",
       "    <tr>\n",
       "      <th>3453</th>\n",
       "      <td>3454</td>\n",
       "      <td>1</td>\n",
       "      <td>AP Archive</td>\n",
       "      <td>422326</td>\n",
       "      <td>746325</td>\n",
       "      <td>548619569</td>\n",
       "      <td>1299.04</td>\n",
       "    </tr>\n",
       "    <tr>\n",
       "      <th>1149</th>\n",
       "      <td>1150</td>\n",
       "      <td>2</td>\n",
       "      <td>YTN NEWS</td>\n",
       "      <td>355996</td>\n",
       "      <td>820108</td>\n",
       "      <td>1640347646</td>\n",
       "      <td>4607.77</td>\n",
       "    </tr>\n",
       "    <tr>\n",
       "      <th>2223</th>\n",
       "      <td>2224</td>\n",
       "      <td>1</td>\n",
       "      <td>SBS Drama</td>\n",
       "      <td>335521</td>\n",
       "      <td>1418619</td>\n",
       "      <td>1565758044</td>\n",
       "      <td>4666.65</td>\n",
       "    </tr>\n",
       "    <tr>\n",
       "      <th>323</th>\n",
       "      <td>324</td>\n",
       "      <td>3</td>\n",
       "      <td>GMA News</td>\n",
       "      <td>269065</td>\n",
       "      <td>2599175</td>\n",
       "      <td>2786949164</td>\n",
       "      <td>10357.90</td>\n",
       "    </tr>\n",
       "    <tr>\n",
       "      <th>2956</th>\n",
       "      <td>2957</td>\n",
       "      <td>1</td>\n",
       "      <td>MLB</td>\n",
       "      <td>267649</td>\n",
       "      <td>1434206</td>\n",
       "      <td>1329206392</td>\n",
       "      <td>4966.23</td>\n",
       "    </tr>\n",
       "  </tbody>\n",
       "</table>\n",
       "</div>"
      ],
      "text/plain": [
       "      Rank  Grade Channel name  Video Uploads  Subscribers  Video views  \\\n",
       "3453  3454      1   AP Archive         422326       746325    548619569   \n",
       "1149  1150      2     YTN NEWS         355996       820108   1640347646   \n",
       "2223  2224      1    SBS Drama         335521      1418619   1565758044   \n",
       "323    324      3     GMA News         269065      2599175   2786949164   \n",
       "2956  2957      1          MLB         267649      1434206   1329206392   \n",
       "\n",
       "      Avg_views  \n",
       "3453    1299.04  \n",
       "1149    4607.77  \n",
       "2223    4666.65  \n",
       "323    10357.90  \n",
       "2956    4966.23  "
      ]
     },
     "execution_count": 39,
     "metadata": {},
     "output_type": "execute_result"
    }
   ],
   "source": [
    "data.sort_values(by='Video Uploads',ascending=False).head()"
   ]
  },
  {
   "cell_type": "code",
   "execution_count": 40,
   "id": "998579ff",
   "metadata": {},
   "outputs": [
    {
     "name": "stderr",
     "output_type": "stream",
     "text": [
      "C:\\Users\\tanis\\AppData\\Local\\Temp\\ipykernel_23952\\2627137660.py:1: FutureWarning: The default value of numeric_only in DataFrame.corr is deprecated. In a future version, it will default to False. Select only valid columns or specify the value of numeric_only to silence this warning.\n",
      "  data.corr()\n"
     ]
    },
    {
     "data": {
      "text/html": [
       "<div>\n",
       "<style scoped>\n",
       "    .dataframe tbody tr th:only-of-type {\n",
       "        vertical-align: middle;\n",
       "    }\n",
       "\n",
       "    .dataframe tbody tr th {\n",
       "        vertical-align: top;\n",
       "    }\n",
       "\n",
       "    .dataframe thead th {\n",
       "        text-align: right;\n",
       "    }\n",
       "</style>\n",
       "<table border=\"1\" class=\"dataframe\">\n",
       "  <thead>\n",
       "    <tr style=\"text-align: right;\">\n",
       "      <th></th>\n",
       "      <th>Rank</th>\n",
       "      <th>Grade</th>\n",
       "      <th>Video Uploads</th>\n",
       "      <th>Subscribers</th>\n",
       "      <th>Video views</th>\n",
       "      <th>Avg_views</th>\n",
       "    </tr>\n",
       "  </thead>\n",
       "  <tbody>\n",
       "    <tr>\n",
       "      <th>Rank</th>\n",
       "      <td>1.00</td>\n",
       "      <td>-0.87</td>\n",
       "      <td>-0.07</td>\n",
       "      <td>-0.38</td>\n",
       "      <td>-0.40</td>\n",
       "      <td>-0.15</td>\n",
       "    </tr>\n",
       "    <tr>\n",
       "      <th>Grade</th>\n",
       "      <td>-0.87</td>\n",
       "      <td>1.00</td>\n",
       "      <td>0.09</td>\n",
       "      <td>0.43</td>\n",
       "      <td>0.48</td>\n",
       "      <td>0.16</td>\n",
       "    </tr>\n",
       "    <tr>\n",
       "      <th>Video Uploads</th>\n",
       "      <td>-0.07</td>\n",
       "      <td>0.09</td>\n",
       "      <td>1.00</td>\n",
       "      <td>0.01</td>\n",
       "      <td>0.09</td>\n",
       "      <td>-0.06</td>\n",
       "    </tr>\n",
       "    <tr>\n",
       "      <th>Subscribers</th>\n",
       "      <td>-0.38</td>\n",
       "      <td>0.43</td>\n",
       "      <td>0.01</td>\n",
       "      <td>1.00</td>\n",
       "      <td>0.79</td>\n",
       "      <td>0.29</td>\n",
       "    </tr>\n",
       "    <tr>\n",
       "      <th>Video views</th>\n",
       "      <td>-0.40</td>\n",
       "      <td>0.48</td>\n",
       "      <td>0.09</td>\n",
       "      <td>0.79</td>\n",
       "      <td>1.00</td>\n",
       "      <td>0.29</td>\n",
       "    </tr>\n",
       "    <tr>\n",
       "      <th>Avg_views</th>\n",
       "      <td>-0.15</td>\n",
       "      <td>0.16</td>\n",
       "      <td>-0.06</td>\n",
       "      <td>0.29</td>\n",
       "      <td>0.29</td>\n",
       "      <td>1.00</td>\n",
       "    </tr>\n",
       "  </tbody>\n",
       "</table>\n",
       "</div>"
      ],
      "text/plain": [
       "               Rank  Grade  Video Uploads  Subscribers  Video views  Avg_views\n",
       "Rank           1.00  -0.87          -0.07        -0.38        -0.40      -0.15\n",
       "Grade         -0.87   1.00           0.09         0.43         0.48       0.16\n",
       "Video Uploads -0.07   0.09           1.00         0.01         0.09      -0.06\n",
       "Subscribers   -0.38   0.43           0.01         1.00         0.79       0.29\n",
       "Video views   -0.40   0.48           0.09         0.79         1.00       0.29\n",
       "Avg_views     -0.15   0.16          -0.06         0.29         0.29       1.00"
      ]
     },
     "execution_count": 40,
     "metadata": {},
     "output_type": "execute_result"
    }
   ],
   "source": [
    "data.corr()"
   ]
  },
  {
   "cell_type": "code",
   "execution_count": 41,
   "id": "d94140e4",
   "metadata": {},
   "outputs": [
    {
     "data": {
      "text/plain": [
       "Index(['Rank', 'Grade', 'Channel name', 'Video Uploads', 'Subscribers',\n",
       "       'Video views', 'Avg_views'],\n",
       "      dtype='object')"
      ]
     },
     "execution_count": 41,
     "metadata": {},
     "output_type": "execute_result"
    }
   ],
   "source": [
    "data.columns"
   ]
  },
  {
   "cell_type": "code",
   "execution_count": 42,
   "id": "252f9954",
   "metadata": {},
   "outputs": [
    {
     "data": {
      "text/plain": [
       "(4610, 7)"
      ]
     },
     "execution_count": 42,
     "metadata": {},
     "output_type": "execute_result"
    }
   ],
   "source": [
    "data.shape"
   ]
  },
  {
   "cell_type": "code",
   "execution_count": 43,
   "id": "b8bc0b04",
   "metadata": {},
   "outputs": [
    {
     "data": {
      "text/plain": [
       "0       False\n",
       "1       False\n",
       "2       False\n",
       "3       False\n",
       "4       False\n",
       "        ...  \n",
       "4995    False\n",
       "4996    False\n",
       "4997    False\n",
       "4998    False\n",
       "4999    False\n",
       "Name: Grade, Length: 4610, dtype: bool"
      ]
     },
     "execution_count": 43,
     "metadata": {},
     "output_type": "execute_result"
    }
   ],
   "source": [
    "data['Grade'].isna()"
   ]
  },
  {
   "cell_type": "code",
   "execution_count": 44,
   "id": "1dd8a320",
   "metadata": {
    "scrolled": true
   },
   "outputs": [
    {
     "data": {
      "text/plain": [
       "<Axes: xlabel='Grade', ylabel='Subscribers'>"
      ]
     },
     "execution_count": 44,
     "metadata": {},
     "output_type": "execute_result"
    },
    {
     "data": {
      "image/png": "[encoded data removed]",
      "text/plain": [
       "<Figure size 640x480 with 1 Axes>"
      ]
     },
     "metadata": {},
     "output_type": "display_data"
    }
   ],
   "source": [
    "sns.barplot(x='Grade',y='Subscribers',data=data)\n"
   ]
  },
  {
   "cell_type": "code",
   "execution_count": 45,
   "id": "23fbed2f",
   "metadata": {},
   "outputs": [
    {
     "data": {
      "text/plain": [
       "<Axes: xlabel='Grade', ylabel='Video Uploads'>"
      ]
     },
     "execution_count": 45,
     "metadata": {},
     "output_type": "execute_result"
    },
    {
     "data": {
      "image/png": "[encoded data removed]",
      "text/plain": [
       "<Figure size 640x480 with 1 Axes>"
      ]
     },
     "metadata": {},
     "output_type": "display_data"
    }
   ],
   "source": [
    "sns.barplot(x='Grade',y='Video Uploads',data=data)\n"
   ]
  },
  {
   "cell_type": "code",
   "execution_count": 46,
   "id": "9c20cf22",
   "metadata": {},
   "outputs": [
    {
     "name": "stderr",
     "output_type": "stream",
     "text": [
      "C:\\Users\\tanis\\AppData\\Local\\Temp\\ipykernel_23952\\3670195322.py:1: FutureWarning: The default value of numeric_only in DataFrameGroupBy.mean is deprecated. In a future version, numeric_only will default to False. Either specify numeric_only or select only columns which should be valid for the function.\n",
      "  data.groupby('Grade').mean()\n"
     ]
    },
    {
     "data": {
      "text/html": [
       "<div>\n",
       "<style scoped>\n",
       "    .dataframe tbody tr th:only-of-type {\n",
       "        vertical-align: middle;\n",
       "    }\n",
       "\n",
       "    .dataframe tbody tr th {\n",
       "        vertical-align: top;\n",
       "    }\n",
       "\n",
       "    .dataframe thead th {\n",
       "        text-align: right;\n",
       "    }\n",
       "</style>\n",
       "<table border=\"1\" class=\"dataframe\">\n",
       "  <thead>\n",
       "    <tr style=\"text-align: right;\">\n",
       "      <th></th>\n",
       "      <th>Rank</th>\n",
       "      <th>Video Uploads</th>\n",
       "      <th>Subscribers</th>\n",
       "      <th>Video views</th>\n",
       "      <th>Avg_views</th>\n",
       "    </tr>\n",
       "    <tr>\n",
       "      <th>Grade</th>\n",
       "      <th></th>\n",
       "      <th></th>\n",
       "      <th></th>\n",
       "      <th></th>\n",
       "      <th></th>\n",
       "    </tr>\n",
       "  </thead>\n",
       "  <tbody>\n",
       "    <tr>\n",
       "      <th>1</th>\n",
       "      <td>3520.54</td>\n",
       "      <td>3136.16</td>\n",
       "      <td>1535207.95</td>\n",
       "      <td>555183839.09</td>\n",
       "      <td>3280380.88</td>\n",
       "    </tr>\n",
       "    <tr>\n",
       "      <th>2</th>\n",
       "      <td>1533.99</td>\n",
       "      <td>4382.58</td>\n",
       "      <td>2798520.38</td>\n",
       "      <td>1102450027.69</td>\n",
       "      <td>5254804.04</td>\n",
       "    </tr>\n",
       "    <tr>\n",
       "      <th>3</th>\n",
       "      <td>534.29</td>\n",
       "      <td>5709.86</td>\n",
       "      <td>5107136.29</td>\n",
       "      <td>2497972949.11</td>\n",
       "      <td>10540908.45</td>\n",
       "    </tr>\n",
       "    <tr>\n",
       "      <th>4</th>\n",
       "      <td>31.32</td>\n",
       "      <td>16960.30</td>\n",
       "      <td>11726947.47</td>\n",
       "      <td>6168741772.73</td>\n",
       "      <td>11577080.32</td>\n",
       "    </tr>\n",
       "    <tr>\n",
       "      <th>5</th>\n",
       "      <td>5.50</td>\n",
       "      <td>37450.70</td>\n",
       "      <td>22281762.50</td>\n",
       "      <td>21199091192.80</td>\n",
       "      <td>5688267.96</td>\n",
       "    </tr>\n",
       "  </tbody>\n",
       "</table>\n",
       "</div>"
      ],
      "text/plain": [
       "         Rank  Video Uploads  Subscribers    Video views   Avg_views\n",
       "Grade                                                               \n",
       "1     3520.54        3136.16   1535207.95   555183839.09  3280380.88\n",
       "2     1533.99        4382.58   2798520.38  1102450027.69  5254804.04\n",
       "3      534.29        5709.86   5107136.29  2497972949.11 10540908.45\n",
       "4       31.32       16960.30  11726947.47  6168741772.73 11577080.32\n",
       "5        5.50       37450.70  22281762.50 21199091192.80  5688267.96"
      ]
     },
     "execution_count": 46,
     "metadata": {},
     "output_type": "execute_result"
    }
   ],
   "source": [
    "data.groupby('Grade').mean()"
   ]
  }
 ],
 "metadata": {
  "kernelspec": {
   "display_name": "Python 3 (ipykernel)",
   "language": "python",
   "name": "python3"
  },
  "language_info": {
   "codemirror_mode": {
    "name": "ipython",
    "version": 3
   },
   "file_extension": ".py",
   "mimetype": "text/x-python",
   "name": "python",
   "nbconvert_exporter": "python",
   "pygments_lexer": "ipython3",
   "version": "3.11.4"
  }
 },
 "nbformat": 4,
 "nbformat_minor": 5
}
